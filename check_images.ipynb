{
 "cells": [
  {
   "cell_type": "code",
   "execution_count": 7,
   "id": "331e3f0b-65f4-4f75-8e50-889dec4802f2",
   "metadata": {
    "execution": {
     "iopub.execute_input": "2023-06-19T12:45:41.338111Z",
     "iopub.status.busy": "2023-06-19T12:45:41.337472Z",
     "iopub.status.idle": "2023-06-19T12:45:41.356187Z",
     "shell.execute_reply": "2023-06-19T12:45:41.355478Z",
     "shell.execute_reply.started": "2023-06-19T12:45:41.338083Z"
    }
   },
   "outputs": [
    {
     "name": "stdout",
     "output_type": "stream",
     "text": [
      "All image names are unique.\n",
      "In total found 5593 images\n"
     ]
    }
   ],
   "source": [
    "import os\n",
    "\n",
    "# Set the directory you want to start from\n",
    "dir_path = '/notebooks/dataset/loco_old'\n",
    "\n",
    "# Supported image extensions\n",
    "image_extensions = {\".jpg\", \".jpeg\"}\n",
    "\n",
    "# This set will store all image names\n",
    "image_names = set()\n",
    "\n",
    "# This flag will help us know if all image names are unique\n",
    "all_unique = True\n",
    "\n",
    "count = 0\n",
    "# Traverse through the directory including subdirectories\n",
    "for dir_name, sub_dir_list, file_list in os.walk(dir_path):\n",
    "    for file_name in file_list:\n",
    "        # Check if the file is an image based on its extension\n",
    "        if any(file_name.lower().endswith(ext) for ext in image_extensions):\n",
    "            # If the image name is already in the set, then it's not unique\n",
    "            count=count+1\n",
    "            if file_name in image_names:\n",
    "                print(f'Duplicate image name found: {file_name}')\n",
    "                all_unique = False\n",
    "            else:\n",
    "                # Add the image name to the set\n",
    "                image_names.add(file_name)\n",
    "\n",
    "# Final message\n",
    "if all_unique:\n",
    "    print(\"All image names are unique.\")\n",
    "else:\n",
    "    print(\"Some image names are not unique.\")\n",
    "print(\"In total found \" + str(count) + \" images\");"
   ]
  },
  {
   "cell_type": "code",
   "execution_count": 14,
   "id": "c3e57df6-2899-4bb9-afdf-7ad61cd71e8b",
   "metadata": {
    "execution": {
     "iopub.execute_input": "2023-06-19T15:00:13.215135Z",
     "iopub.status.busy": "2023-06-19T15:00:13.214341Z",
     "iopub.status.idle": "2023-06-19T15:00:16.113343Z",
     "shell.execute_reply": "2023-06-19T15:00:16.112618Z",
     "shell.execute_reply.started": "2023-06-19T15:00:13.215105Z"
    }
   },
   "outputs": [
    {
     "name": "stdout",
     "output_type": "stream",
     "text": [
      "All images have been moved to the destination directory.\n"
     ]
    }
   ],
   "source": [
    "import os\n",
    "import shutil\n",
    "\n",
    "# Set the directory you want to start from\n",
    "original_dir_path = '/notebooks/dataset/loco_new'\n",
    "copy_dir_path = '/notebooks/dataset/loco_new/'\n",
    "destination_dir = '/notebooks/dataset/loco_new/images/'\n",
    "\n",
    "# Supported image extensions\n",
    "image_extensions = {\".jpg\", \".jpeg\"}\n",
    "\n",
    "# Step 1: Make a copy of the original folder\n",
    "#shutil.copytree(original_dir_path, copy_dir_path)\n",
    "\n",
    "# Step 2: Create a destination directory inside the copied folder if not exists\n",
    "os.makedirs(os.path.join(copy_dir_path, destination_dir), exist_ok=True)\n",
    "\n",
    "# Step 3: Traverse through the directory including subdirectories of the copied folder\n",
    "for dir_name, sub_dir_list, file_list in os.walk(copy_dir_path):\n",
    "    for file_name in file_list:\n",
    "        # Check if the file is an image based on its extension\n",
    "        if any(file_name.lower().endswith(ext) for ext in image_extensions):\n",
    "            # Construct full file path\n",
    "            source = os.path.join(dir_name, file_name)\n",
    "            destination = os.path.join(copy_dir_path, destination_dir, file_name)\n",
    "            # Move the file to the destination directory\n",
    "            shutil.move(source, destination)\n",
    "\n",
    "print(\"All images have been moved to the destination directory.\")\n"
   ]
  },
  {
   "cell_type": "code",
   "execution_count": 10,
   "id": "a3a8d586-8fa6-4121-a515-fe4bb834b288",
   "metadata": {
    "execution": {
     "iopub.execute_input": "2023-06-19T12:49:14.423924Z",
     "iopub.status.busy": "2023-06-19T12:49:14.423620Z",
     "iopub.status.idle": "2023-06-19T12:49:14.441361Z",
     "shell.execute_reply": "2023-06-19T12:49:14.440676Z",
     "shell.execute_reply.started": "2023-06-19T12:49:14.423897Z"
    }
   },
   "outputs": [
    {
     "name": "stdout",
     "output_type": "stream",
     "text": [
      "All image names are unique.\n",
      "In total found 5593 images\n"
     ]
    }
   ],
   "source": [
    "import os\n",
    "\n",
    "# Set the directory you want to start from\n",
    "dir_path = '/notebooks/dataset/loco_old'\n",
    "\n",
    "# Supported image extensions\n",
    "image_extensions = {\".jpg\", \".jpeg\"}\n",
    "\n",
    "# This set will store all image names\n",
    "image_names = set()\n",
    "\n",
    "# This flag will help us know if all image names are unique\n",
    "all_unique = True\n",
    "\n",
    "count = 0\n",
    "# Traverse through the directory including subdirectories\n",
    "for dir_name, sub_dir_list, file_list in os.walk(dir_path):\n",
    "    for file_name in file_list:\n",
    "        # Check if the file is an image based on its extension\n",
    "        if any(file_name.lower().endswith(ext) for ext in image_extensions):\n",
    "            # If the image name is already in the set, then it's not unique\n",
    "            count=count+1\n",
    "            if file_name in image_names:\n",
    "                print(f'Duplicate image name found: {file_name}')\n",
    "                all_unique = False\n",
    "            else:\n",
    "                # Add the image name to the set\n",
    "                image_names.add(file_name)\n",
    "\n",
    "# Final message\n",
    "if all_unique:\n",
    "    print(\"All image names are unique.\")\n",
    "else:\n",
    "    print(\"Some image names are not unique.\")\n",
    "print(\"In total found \" + str(count) + \" images\");"
   ]
  }
 ],
 "metadata": {
  "kernelspec": {
   "display_name": "Python 3 (ipykernel)",
   "language": "python",
   "name": "python3"
  },
  "language_info": {
   "codemirror_mode": {
    "name": "ipython",
    "version": 3
   },
   "file_extension": ".py",
   "mimetype": "text/x-python",
   "name": "python",
   "nbconvert_exporter": "python",
   "pygments_lexer": "ipython3",
   "version": "3.9.16"
  }
 },
 "nbformat": 4,
 "nbformat_minor": 5
}
